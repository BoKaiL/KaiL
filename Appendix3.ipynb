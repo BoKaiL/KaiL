{
 "cells": [
  {
   "cell_type": "code",
   "execution_count": 1,
   "metadata": {},
   "outputs": [],
   "source": [
    "# Project packages\n",
    "import pandas as pd\n",
    "import numpy as np\n",
    "\n",
    "# Visualisations\n",
    "import matplotlib.pyplot as plt \n",
    "import seaborn as sns\n",
    "\n",
    "# Statistics\n",
    "from scipy import stats\n",
    "from scipy.stats import norm, skew\n",
    "from statistics import mode\n",
    "\n",
    "# Machine Learning\n",
    "from sklearn.metrics import r2_score, make_scorer, mean_squared_error # import metrics from sklearn\n",
    "from sklearn.model_selection import train_test_split\n",
    "from sklearn.preprocessing import LabelEncoder\n",
    "from sklearn.linear_model import Lasso, Ridge, RidgeCV, ElasticNet\n",
    "from sklearn.pipeline import make_pipeline\n",
    "from sklearn.preprocessing import RobustScaler\n",
    "from sklearn.base import BaseEstimator, TransformerMixin, RegressorMixin, clone\n",
    "from sklearn.model_selection import KFold, cross_val_score, train_test_split\n",
    "from sklearn.metrics import mean_squared_error\n",
    "from sklearn.model_selection import GridSearchCV\n",
    "from sklearn.model_selection import RandomizedSearchCV\n",
    "from sklearn.model_selection import ShuffleSplit\n",
    "\n",
    "# Machine Learning Algorithms\n",
    "from sklearn.linear_model import LinearRegression\n",
    "from sklearn.kernel_ridge import KernelRidge\n",
    "from sklearn.tree import DecisionTreeRegressor as DTR\n",
    "from sklearn.ensemble import RandomForestRegressor as RFR\n",
    "from sklearn.ensemble import GradientBoostingRegressor as GBR\n",
    "\n",
    "import sys\n",
    "import warnings\n",
    "from time import time\n",
    "\n",
    "if not sys.warnoptions:\n",
    "    warnings.simplefilter(\"ignore\")"
   ]
  },
  {
   "cell_type": "code",
   "execution_count": 160,
   "metadata": {},
   "outputs": [],
   "source": [
    "# Reading in the data\n",
    "# train_linearregression = pd.read_csv('./Dataset/linearregression_train.csv')\n",
    "# test_linearregression = pd.read_csv('./Dataset/linearregression_test.csv')\n",
    "# train_knn = pd.read_csv('./Dataset/knn_train.csv')\n",
    "# test_knn = pd.read_csv('./Dataset/knn_test.csv')\n",
    "train_processed = pd.read_csv('./Dataset/processed_train.csv')\n",
    "test_processed = pd.read_csv('./Dataset/processed_test.csv')\n",
    "\n",
    "train = train_processed\n",
    "test = test_processed\n",
    "\n",
    "test_ID = test['Id']\n",
    "del test['Id']\n",
    "del train['Id']\n",
    "\n",
    "ntrain = train.shape[0]\n",
    "# vali = train[0:int(0.1*ntrain)]\n",
    "# train = train[int(0.1*ntrain):]\n",
    "# print(ntrain)\n",
    "# print(vali.shape)\n",
    "# print(train.shape)"
   ]
  },
  {
   "cell_type": "code",
   "execution_count": 3,
   "metadata": {},
   "outputs": [
    {
     "data": {
      "text/html": [
       "<div>\n",
       "<style scoped>\n",
       "    .dataframe tbody tr th:only-of-type {\n",
       "        vertical-align: middle;\n",
       "    }\n",
       "\n",
       "    .dataframe tbody tr th {\n",
       "        vertical-align: top;\n",
       "    }\n",
       "\n",
       "    .dataframe thead th {\n",
       "        text-align: right;\n",
       "    }\n",
       "</style>\n",
       "<table border=\"1\" class=\"dataframe\">\n",
       "  <thead>\n",
       "    <tr style=\"text-align: right;\">\n",
       "      <th></th>\n",
       "      <th>1stFlrSF</th>\n",
       "      <th>2ndFlrSF</th>\n",
       "      <th>3SsnPorch</th>\n",
       "      <th>Alley</th>\n",
       "      <th>BedroomAbvGr</th>\n",
       "      <th>BsmtCond</th>\n",
       "      <th>BsmtExposure</th>\n",
       "      <th>BsmtFinSF1</th>\n",
       "      <th>BsmtFinSF2</th>\n",
       "      <th>BsmtFinType1</th>\n",
       "      <th>...</th>\n",
       "      <th>SaleType_ConLI</th>\n",
       "      <th>SaleType_ConLw</th>\n",
       "      <th>SaleType_New</th>\n",
       "      <th>SaleType_Oth</th>\n",
       "      <th>SaleType_WD</th>\n",
       "      <th>Street_Grvl</th>\n",
       "      <th>Street_Pave</th>\n",
       "      <th>Utilities_AllPub</th>\n",
       "      <th>Utilities_NoSeWa</th>\n",
       "      <th>SalePrice</th>\n",
       "    </tr>\n",
       "  </thead>\n",
       "  <tbody>\n",
       "    <tr>\n",
       "      <th>145</th>\n",
       "      <td>6.878326</td>\n",
       "      <td>6.606650</td>\n",
       "      <td>0.0</td>\n",
       "      <td>1</td>\n",
       "      <td>3</td>\n",
       "      <td>4</td>\n",
       "      <td>3</td>\n",
       "      <td>0.000000</td>\n",
       "      <td>0.0</td>\n",
       "      <td>6</td>\n",
       "      <td>...</td>\n",
       "      <td>0</td>\n",
       "      <td>0</td>\n",
       "      <td>0</td>\n",
       "      <td>0</td>\n",
       "      <td>1</td>\n",
       "      <td>0</td>\n",
       "      <td>1</td>\n",
       "      <td>1</td>\n",
       "      <td>0</td>\n",
       "      <td>11.775297</td>\n",
       "    </tr>\n",
       "    <tr>\n",
       "      <th>146</th>\n",
       "      <td>6.775366</td>\n",
       "      <td>0.000000</td>\n",
       "      <td>0.0</td>\n",
       "      <td>1</td>\n",
       "      <td>2</td>\n",
       "      <td>4</td>\n",
       "      <td>3</td>\n",
       "      <td>5.347108</td>\n",
       "      <td>0.0</td>\n",
       "      <td>1</td>\n",
       "      <td>...</td>\n",
       "      <td>0</td>\n",
       "      <td>0</td>\n",
       "      <td>0</td>\n",
       "      <td>0</td>\n",
       "      <td>1</td>\n",
       "      <td>0</td>\n",
       "      <td>1</td>\n",
       "      <td>1</td>\n",
       "      <td>0</td>\n",
       "      <td>11.561725</td>\n",
       "    </tr>\n",
       "    <tr>\n",
       "      <th>147</th>\n",
       "      <td>6.785588</td>\n",
       "      <td>7.049255</td>\n",
       "      <td>0.0</td>\n",
       "      <td>1</td>\n",
       "      <td>3</td>\n",
       "      <td>4</td>\n",
       "      <td>3</td>\n",
       "      <td>0.000000</td>\n",
       "      <td>0.0</td>\n",
       "      <td>6</td>\n",
       "      <td>...</td>\n",
       "      <td>0</td>\n",
       "      <td>0</td>\n",
       "      <td>0</td>\n",
       "      <td>0</td>\n",
       "      <td>1</td>\n",
       "      <td>0</td>\n",
       "      <td>1</td>\n",
       "      <td>1</td>\n",
       "      <td>0</td>\n",
       "      <td>12.312687</td>\n",
       "    </tr>\n",
       "    <tr>\n",
       "      <th>148</th>\n",
       "      <td>6.985642</td>\n",
       "      <td>0.000000</td>\n",
       "      <td>0.0</td>\n",
       "      <td>1</td>\n",
       "      <td>3</td>\n",
       "      <td>4</td>\n",
       "      <td>3</td>\n",
       "      <td>6.523562</td>\n",
       "      <td>0.0</td>\n",
       "      <td>2</td>\n",
       "      <td>...</td>\n",
       "      <td>0</td>\n",
       "      <td>0</td>\n",
       "      <td>0</td>\n",
       "      <td>0</td>\n",
       "      <td>1</td>\n",
       "      <td>0</td>\n",
       "      <td>1</td>\n",
       "      <td>1</td>\n",
       "      <td>0</td>\n",
       "      <td>11.856522</td>\n",
       "    </tr>\n",
       "    <tr>\n",
       "      <th>149</th>\n",
       "      <td>6.799056</td>\n",
       "      <td>6.107023</td>\n",
       "      <td>0.0</td>\n",
       "      <td>1</td>\n",
       "      <td>3</td>\n",
       "      <td>4</td>\n",
       "      <td>3</td>\n",
       "      <td>0.000000</td>\n",
       "      <td>0.0</td>\n",
       "      <td>6</td>\n",
       "      <td>...</td>\n",
       "      <td>0</td>\n",
       "      <td>0</td>\n",
       "      <td>0</td>\n",
       "      <td>0</td>\n",
       "      <td>1</td>\n",
       "      <td>0</td>\n",
       "      <td>1</td>\n",
       "      <td>1</td>\n",
       "      <td>0</td>\n",
       "      <td>11.652696</td>\n",
       "    </tr>\n",
       "  </tbody>\n",
       "</table>\n",
       "<p>5 rows × 227 columns</p>\n",
       "</div>"
      ],
      "text/plain": [
       "     1stFlrSF  2ndFlrSF  3SsnPorch  Alley  BedroomAbvGr  BsmtCond  \\\n",
       "145  6.878326  6.606650        0.0      1             3         4   \n",
       "146  6.775366  0.000000        0.0      1             2         4   \n",
       "147  6.785588  7.049255        0.0      1             3         4   \n",
       "148  6.985642  0.000000        0.0      1             3         4   \n",
       "149  6.799056  6.107023        0.0      1             3         4   \n",
       "\n",
       "     BsmtExposure  BsmtFinSF1  BsmtFinSF2  BsmtFinType1    ...      \\\n",
       "145             3    0.000000         0.0             6    ...       \n",
       "146             3    5.347108         0.0             1    ...       \n",
       "147             3    0.000000         0.0             6    ...       \n",
       "148             3    6.523562         0.0             2    ...       \n",
       "149             3    0.000000         0.0             6    ...       \n",
       "\n",
       "     SaleType_ConLI  SaleType_ConLw  SaleType_New  SaleType_Oth  SaleType_WD  \\\n",
       "145               0               0             0             0            1   \n",
       "146               0               0             0             0            1   \n",
       "147               0               0             0             0            1   \n",
       "148               0               0             0             0            1   \n",
       "149               0               0             0             0            1   \n",
       "\n",
       "     Street_Grvl  Street_Pave  Utilities_AllPub  Utilities_NoSeWa  SalePrice  \n",
       "145            0            1                 1                 0  11.775297  \n",
       "146            0            1                 1                 0  11.561725  \n",
       "147            0            1                 1                 0  12.312687  \n",
       "148            0            1                 1                 0  11.856522  \n",
       "149            0            1                 1                 0  11.652696  \n",
       "\n",
       "[5 rows x 227 columns]"
      ]
     },
     "execution_count": 3,
     "metadata": {},
     "output_type": "execute_result"
    }
   ],
   "source": [
    "train.head()"
   ]
  },
  {
   "cell_type": "code",
   "execution_count": 4,
   "metadata": {},
   "outputs": [
    {
     "data": {
      "text/html": [
       "<div>\n",
       "<style scoped>\n",
       "    .dataframe tbody tr th:only-of-type {\n",
       "        vertical-align: middle;\n",
       "    }\n",
       "\n",
       "    .dataframe tbody tr th {\n",
       "        vertical-align: top;\n",
       "    }\n",
       "\n",
       "    .dataframe thead th {\n",
       "        text-align: right;\n",
       "    }\n",
       "</style>\n",
       "<table border=\"1\" class=\"dataframe\">\n",
       "  <thead>\n",
       "    <tr style=\"text-align: right;\">\n",
       "      <th></th>\n",
       "      <th>1stFlrSF</th>\n",
       "      <th>2ndFlrSF</th>\n",
       "      <th>3SsnPorch</th>\n",
       "      <th>Alley</th>\n",
       "      <th>BedroomAbvGr</th>\n",
       "      <th>BsmtCond</th>\n",
       "      <th>BsmtExposure</th>\n",
       "      <th>BsmtFinSF1</th>\n",
       "      <th>BsmtFinSF2</th>\n",
       "      <th>BsmtFinType1</th>\n",
       "      <th>...</th>\n",
       "      <th>SaleType_ConLD</th>\n",
       "      <th>SaleType_ConLI</th>\n",
       "      <th>SaleType_ConLw</th>\n",
       "      <th>SaleType_New</th>\n",
       "      <th>SaleType_Oth</th>\n",
       "      <th>SaleType_WD</th>\n",
       "      <th>Street_Grvl</th>\n",
       "      <th>Street_Pave</th>\n",
       "      <th>Utilities_AllPub</th>\n",
       "      <th>Utilities_NoSeWa</th>\n",
       "    </tr>\n",
       "  </thead>\n",
       "  <tbody>\n",
       "    <tr>\n",
       "      <th>0</th>\n",
       "      <td>6.799056</td>\n",
       "      <td>0.000000</td>\n",
       "      <td>0.0</td>\n",
       "      <td>1</td>\n",
       "      <td>2</td>\n",
       "      <td>4</td>\n",
       "      <td>3</td>\n",
       "      <td>6.150603</td>\n",
       "      <td>4.976734</td>\n",
       "      <td>5</td>\n",
       "      <td>...</td>\n",
       "      <td>0</td>\n",
       "      <td>0</td>\n",
       "      <td>0</td>\n",
       "      <td>0</td>\n",
       "      <td>0</td>\n",
       "      <td>1</td>\n",
       "      <td>0</td>\n",
       "      <td>1</td>\n",
       "      <td>1</td>\n",
       "      <td>0</td>\n",
       "    </tr>\n",
       "    <tr>\n",
       "      <th>1</th>\n",
       "      <td>7.192934</td>\n",
       "      <td>0.000000</td>\n",
       "      <td>0.0</td>\n",
       "      <td>1</td>\n",
       "      <td>3</td>\n",
       "      <td>4</td>\n",
       "      <td>3</td>\n",
       "      <td>6.828712</td>\n",
       "      <td>0.000000</td>\n",
       "      <td>0</td>\n",
       "      <td>...</td>\n",
       "      <td>0</td>\n",
       "      <td>0</td>\n",
       "      <td>0</td>\n",
       "      <td>0</td>\n",
       "      <td>0</td>\n",
       "      <td>1</td>\n",
       "      <td>0</td>\n",
       "      <td>1</td>\n",
       "      <td>1</td>\n",
       "      <td>0</td>\n",
       "    </tr>\n",
       "    <tr>\n",
       "      <th>2</th>\n",
       "      <td>6.834109</td>\n",
       "      <td>6.553933</td>\n",
       "      <td>0.0</td>\n",
       "      <td>1</td>\n",
       "      <td>3</td>\n",
       "      <td>4</td>\n",
       "      <td>3</td>\n",
       "      <td>6.674561</td>\n",
       "      <td>0.000000</td>\n",
       "      <td>2</td>\n",
       "      <td>...</td>\n",
       "      <td>0</td>\n",
       "      <td>0</td>\n",
       "      <td>0</td>\n",
       "      <td>0</td>\n",
       "      <td>0</td>\n",
       "      <td>1</td>\n",
       "      <td>0</td>\n",
       "      <td>1</td>\n",
       "      <td>1</td>\n",
       "      <td>0</td>\n",
       "    </tr>\n",
       "    <tr>\n",
       "      <th>3</th>\n",
       "      <td>6.831954</td>\n",
       "      <td>6.520621</td>\n",
       "      <td>0.0</td>\n",
       "      <td>1</td>\n",
       "      <td>3</td>\n",
       "      <td>4</td>\n",
       "      <td>3</td>\n",
       "      <td>6.401917</td>\n",
       "      <td>0.000000</td>\n",
       "      <td>2</td>\n",
       "      <td>...</td>\n",
       "      <td>0</td>\n",
       "      <td>0</td>\n",
       "      <td>0</td>\n",
       "      <td>0</td>\n",
       "      <td>0</td>\n",
       "      <td>1</td>\n",
       "      <td>0</td>\n",
       "      <td>1</td>\n",
       "      <td>1</td>\n",
       "      <td>0</td>\n",
       "    </tr>\n",
       "    <tr>\n",
       "      <th>4</th>\n",
       "      <td>7.155396</td>\n",
       "      <td>0.000000</td>\n",
       "      <td>0.0</td>\n",
       "      <td>1</td>\n",
       "      <td>2</td>\n",
       "      <td>4</td>\n",
       "      <td>3</td>\n",
       "      <td>5.575949</td>\n",
       "      <td>0.000000</td>\n",
       "      <td>0</td>\n",
       "      <td>...</td>\n",
       "      <td>0</td>\n",
       "      <td>0</td>\n",
       "      <td>0</td>\n",
       "      <td>0</td>\n",
       "      <td>0</td>\n",
       "      <td>1</td>\n",
       "      <td>0</td>\n",
       "      <td>1</td>\n",
       "      <td>1</td>\n",
       "      <td>0</td>\n",
       "    </tr>\n",
       "  </tbody>\n",
       "</table>\n",
       "<p>5 rows × 226 columns</p>\n",
       "</div>"
      ],
      "text/plain": [
       "   1stFlrSF  2ndFlrSF  3SsnPorch  Alley  BedroomAbvGr  BsmtCond  BsmtExposure  \\\n",
       "0  6.799056  0.000000        0.0      1             2         4             3   \n",
       "1  7.192934  0.000000        0.0      1             3         4             3   \n",
       "2  6.834109  6.553933        0.0      1             3         4             3   \n",
       "3  6.831954  6.520621        0.0      1             3         4             3   \n",
       "4  7.155396  0.000000        0.0      1             2         4             3   \n",
       "\n",
       "   BsmtFinSF1  BsmtFinSF2  BsmtFinType1        ...         SaleType_ConLD  \\\n",
       "0    6.150603    4.976734             5        ...                      0   \n",
       "1    6.828712    0.000000             0        ...                      0   \n",
       "2    6.674561    0.000000             2        ...                      0   \n",
       "3    6.401917    0.000000             2        ...                      0   \n",
       "4    5.575949    0.000000             0        ...                      0   \n",
       "\n",
       "   SaleType_ConLI  SaleType_ConLw  SaleType_New  SaleType_Oth  SaleType_WD  \\\n",
       "0               0               0             0             0            1   \n",
       "1               0               0             0             0            1   \n",
       "2               0               0             0             0            1   \n",
       "3               0               0             0             0            1   \n",
       "4               0               0             0             0            1   \n",
       "\n",
       "   Street_Grvl  Street_Pave  Utilities_AllPub  Utilities_NoSeWa  \n",
       "0            0            1                 1                 0  \n",
       "1            0            1                 1                 0  \n",
       "2            0            1                 1                 0  \n",
       "3            0            1                 1                 0  \n",
       "4            0            1                 1                 0  \n",
       "\n",
       "[5 rows x 226 columns]"
      ]
     },
     "execution_count": 4,
     "metadata": {},
     "output_type": "execute_result"
    }
   ],
   "source": [
    "test.head()"
   ]
  },
  {
   "cell_type": "code",
   "execution_count": 161,
   "metadata": {},
   "outputs": [],
   "source": [
    "Y_train = train['SalePrice'].copy()\n",
    "X_train = train.copy()\n",
    "Y_vali = vali['SalePrice'].copy()\n",
    "X_vali = vali.copy()\n",
    "X_train.drop(['SalePrice'], axis=1, inplace=True)\n",
    "X_test = test\n",
    "X_vali.drop(['SalePrice'], axis=1, inplace=True)\n",
    "X_vali = test\n",
    "\n",
    "def rmse_cv(model):\n",
    "    rmse = np.sqrt(-cross_val_score(model, X_train, Y_train, scoring=\"neg_mean_squared_error\", cv = 10))\n",
    "    return(rmse)"
   ]
  },
  {
   "cell_type": "markdown",
   "metadata": {},
   "source": [
    "# Tree Methods #"
   ]
  },
  {
   "cell_type": "markdown",
   "metadata": {},
   "source": [
    "## (i) Regression Tree ##"
   ]
  },
  {
   "cell_type": "code",
   "execution_count": 6,
   "metadata": {},
   "outputs": [
    {
     "data": {
      "text/plain": [
       "Text(0,0.5,'Rmse')"
      ]
     },
     "execution_count": 6,
     "metadata": {},
     "output_type": "execute_result"
    },
    {
     "data": {
      "image/png": "[encoded data removed]",
      "text/plain": [
       "<Figure size 432x288 with 1 Axes>"
      ]
     },
     "metadata": {},
     "output_type": "display_data"
    }
   ],
   "source": [
    "depths = np.linspace(1, 40, num=20)\n",
    "\n",
    "cv_dtr = [rmse_cv(DTR(max_depth = depth)).mean() for depth in depths]\n",
    "\n",
    "# Plot findings\n",
    "cv_dtrs = pd.Series(cv_dtr, index = depths)\n",
    "cv_dtrs.plot(title = \"Validation\")\n",
    "plt.xlabel(\"Tree Depth\")\n",
    "plt.ylabel(\"Rmse\")"
   ]
  },
  {
   "cell_type": "code",
   "execution_count": 8,
   "metadata": {},
   "outputs": [
    {
     "data": {
      "text/plain": [
       "Text(0,0.5,'Rmse')"
      ]
     },
     "execution_count": 8,
     "metadata": {},
     "output_type": "execute_result"
    },
    {
     "data": {
      "image/png": "[encoded data removed]",
      "text/plain": [
       "<Figure size 432x288 with 1 Axes>"
      ]
     },
     "metadata": {},
     "output_type": "display_data"
    }
   ],
   "source": [
    "depths = np.linspace(1, 500, num=20)\n",
    "\n",
    "cv_dtr = [rmse_cv(DTR(max_depth = depth)).mean() for depth in depths]\n",
    "\n",
    "# Plot findings\n",
    "cv_dtrs = pd.Series(cv_dtr, index = depths)\n",
    "cv_dtrs.plot(title = \"Validation\")\n",
    "plt.xlabel(\"Tree Depth\")\n",
    "plt.ylabel(\"Rmse\")"
   ]
  },
  {
   "cell_type": "code",
   "execution_count": 9,
   "metadata": {},
   "outputs": [
    {
     "data": {
      "text/plain": [
       "Text(0,0.5,'Rmse')"
      ]
     },
     "execution_count": 9,
     "metadata": {},
     "output_type": "execute_result"
    },
    {
     "data": {
      "image/png": "[encoded data removed]",
      "text/plain": [
       "<Figure size 432x288 with 1 Axes>"
      ]
     },
     "metadata": {},
     "output_type": "display_data"
    }
   ],
   "source": [
    "depths = np.linspace(1, 10000, num=20)\n",
    "\n",
    "cv_dtr = [rmse_cv(DTR(max_depth = depth)).mean() for depth in depths]\n",
    "\n",
    "# Plot findings\n",
    "cv_dtrs = pd.Series(cv_dtr, index = depths)\n",
    "cv_dtrs.plot(title = \"Validation\")\n",
    "plt.xlabel(\"Tree Depth\")\n",
    "plt.ylabel(\"Rmse\")"
   ]
  },
  {
   "cell_type": "code",
   "execution_count": 10,
   "metadata": {},
   "outputs": [
    {
     "name": "stdout",
     "output_type": "stream",
     "text": [
      "The RMSE of Regression Tree is: \n",
      " 0.198237\n"
     ]
    }
   ],
   "source": [
    "cv_dtr = cv_dtrs.min()\n",
    "model_dtr = DTR(max_depth = cv_dtrs.argmin())\n",
    "print('The RMSE of Regression Tree is: \\n {:.6f}'. format(cv_dtr))"
   ]
  },
  {
   "cell_type": "code",
   "execution_count": 11,
   "metadata": {},
   "outputs": [],
   "source": [
    "dtr_5 = DTR(max_depth = 5).fit(X_train, Y_train)"
   ]
  },
  {
   "cell_type": "code",
   "execution_count": 12,
   "metadata": {},
   "outputs": [
    {
     "name": "stdout",
     "output_type": "stream",
     "text": [
      "The unique values in the prediction are:  32\n",
      "The number of unique values is: \n",
      " [11.06724159 11.13938232 11.45352436 11.49889548 11.57530272 11.5996676\n",
      " 11.66382631 11.70297268 11.74825145 11.84694382 11.8794988  11.90604049\n",
      " 11.91788036 11.92320668 11.9686565  12.05104338 12.14721091 12.18685766\n",
      " 12.23548536 12.26621732 12.30380666 12.32353872 12.44853337 12.48686975\n",
      " 12.52422398 12.58744067 12.65979666 12.70906839 12.75828835 12.95214386\n",
      " 13.16709436 13.46704124]\n"
     ]
    }
   ],
   "source": [
    "predict_dtr_5 = dtr_5.predict(X_train)\n",
    "predict_dtr_5.sort(axis=0)\n",
    "predict_dtr_5 = list(predict_dtr_5)\n",
    "predict_dtr_5 = np.unique(predict_dtr_5)\n",
    "\n",
    "print('The unique values in the prediction are: ', predict_dtr_5.shape[0])\n",
    "print('The number of unique values is: \\n', predict_dtr_5)"
   ]
  },
  {
   "cell_type": "markdown",
   "metadata": {},
   "source": [
    "Note that $2^5=32$. "
   ]
  },
  {
   "cell_type": "markdown",
   "metadata": {},
   "source": [
    "## (ii) Random Forest / Boostrap ##"
   ]
  },
  {
   "cell_type": "code",
   "execution_count": 13,
   "metadata": {},
   "outputs": [
    {
     "name": "stdout",
     "output_type": "stream",
     "text": [
      "The RMSE of Random Forest is: \n",
      " 0.145111\n"
     ]
    }
   ],
   "source": [
    "cv_rf_defult = rmse_cv(RFR()).mean()\n",
    "print('The RMSE of Random Forest is: \\n {:.6f}'. format(cv_rf_defult))"
   ]
  },
  {
   "cell_type": "code",
   "execution_count": 14,
   "metadata": {},
   "outputs": [],
   "source": [
    "# # Tune the parameters of Random Forest\n",
    "# start = time() # Get start time\n",
    "\n",
    "# rf_regressor = RFR(random_state=42)\n",
    "# cv_sets = ShuffleSplit(random_state = 4) # shuffling our data for cross-validation\n",
    "# parameters = {'n_estimators':[100, 200, 400], \n",
    "#               'min_samples_leaf':[2], \n",
    "#               'max_depth':[40, 60, 80]}\n",
    "# scorer = make_scorer(r2_score)\n",
    "# n_iter_search = 8\n",
    "# grid_obj = RandomizedSearchCV(rf_regressor, \n",
    "#                               parameters, \n",
    "#                               n_iter = n_iter_search, \n",
    "#                               scoring = scorer, \n",
    "#                               cv = cv_sets,\n",
    "#                               random_state= 99)\n",
    "# grid_fit = grid_obj.fit(X_train, Y_train)\n",
    "# rf_opt = grid_fit.best_estimator_\n",
    "\n",
    "# end = time() # Get end time\n",
    "# # Calculate training time\n",
    "# rf_time = (end-start)/60\n",
    "# print('It took {0:.2f} minutes for RandomSearchCV to converge to optimised parameters for the RF model'.format(rf_time))"
   ]
  },
  {
   "cell_type": "code",
   "execution_count": 63,
   "metadata": {},
   "outputs": [],
   "source": [
    "rf_opt = RFR(n_estimators=400, \n",
    "             min_samples_leaf=2, \n",
    "             max_depth=60)\n",
    "\n",
    "model_rf = rf_opt\n",
    "\n",
    "#print('The best parameters for Random Forest is: \\n', grid_fit.best_params_)"
   ]
  },
  {
   "cell_type": "code",
   "execution_count": 64,
   "metadata": {},
   "outputs": [
    {
     "name": "stdout",
     "output_type": "stream",
     "text": [
      "The RMSE of Random Forest after tunning is: \n",
      " 0.134653\n"
     ]
    }
   ],
   "source": [
    "cv_rf_best = rmse_cv(rf_opt).mean()\n",
    "cv_rf = cv_rf_best\n",
    "print('The RMSE of Random Forest after tunning is: \\n {:.6f}'. format(cv_rf_best))"
   ]
  },
  {
   "cell_type": "code",
   "execution_count": 17,
   "metadata": {},
   "outputs": [],
   "source": [
    "# importances = rf_opt.feature_importances_\n",
    "# X_train.columns.values[(np.argsort(importances)[::-1])[:5]] # the top 5 features"
   ]
  },
  {
   "cell_type": "markdown",
   "metadata": {},
   "source": [
    "## (iii) Gradiant Boosting Tree / Boosting ##"
   ]
  },
  {
   "cell_type": "code",
   "execution_count": 57,
   "metadata": {},
   "outputs": [],
   "source": [
    "# Initiating Gradient Boosting Regressor\n",
    "model_gbr = GBR(n_estimators=3000, \n",
    "                learning_rate=0.05,\n",
    "                max_depth=4, \n",
    "                max_features='sqrt',\n",
    "                min_samples_leaf=15, \n",
    "                min_samples_split=10, \n",
    "                loss='huber',\n",
    "                random_state=5)\n",
    "\n",
    "cv_gbr = rmse_cv(model_gbr).mean()"
   ]
  },
  {
   "cell_type": "code",
   "execution_count": 58,
   "metadata": {},
   "outputs": [
    {
     "name": "stdout",
     "output_type": "stream",
     "text": [
      "The RMSE of Gradiant Boosting Tree is: \n",
      " 0.115121\n"
     ]
    }
   ],
   "source": [
    "print('The RMSE of Gradiant Boosting Tree is: \\n {:.6f}'. format(cv_gbr))"
   ]
  },
  {
   "cell_type": "markdown",
   "metadata": {},
   "source": [
    "# Summary for Tree methods #"
   ]
  },
  {
   "cell_type": "code",
   "execution_count": 125,
   "metadata": {},
   "outputs": [],
   "source": [
    "# model_ridge = make_pipeline(RobustScaler(), Ridge(alpha = 4))\n",
    "# model_lasso = make_pipeline(RobustScaler(), Lasso(alpha = 0.0005))\n",
    "# model_elastic = make_pipeline(RobustScaler(), ElasticNet(alpha = 0.0005))\n",
    "# model_krr = make_pipeline(RobustScaler(), KernelRidge(alpha=6, kernel='polynomial', degree=2.65, coef0=6.9))\n",
    "\n",
    "model_ridge = make_pipeline(RobustScaler(), Ridge(alpha = 4))\n",
    "model_lasso = make_pipeline(RobustScaler(), Lasso(alpha = 0.0005))\n",
    "model_elastic = make_pipeline(RobustScaler(), ElasticNet(alpha = 0.0005, l1_ratio=0.6))\n",
    "model_krr = make_pipeline(RobustScaler(), KernelRidge(alpha=6, kernel='polynomial', degree=2.65, coef0=6.9))"
   ]
  },
  {
   "cell_type": "code",
   "execution_count": 162,
   "metadata": {},
   "outputs": [],
   "source": [
    "# X_test = X_vali\n",
    "# Y_test = Y_vali\n",
    "\n",
    "model_dtr.fit(X_train, Y_train)\n",
    "dtr_train = np.expm1(model_dtr.predict(X_train))\n",
    "dtr_pred = np.expm1(model_dtr.predict(X_test))\n",
    "\n",
    "model_rf.fit(X_train, Y_train)\n",
    "rf_train = np.expm1(model_rf.predict(X_train))\n",
    "rf_pred = np.expm1(model_rf.predict(X_test))\n",
    "\n",
    "model_gbr.fit(X_train, Y_train)\n",
    "gbr_train = np.expm1(model_gbr.predict(X_train))\n",
    "gbr_pred = np.expm1(model_gbr.predict(X_test))\n",
    "\n",
    "model_ridge.fit(X_train, Y_train)\n",
    "ridge_train = np.expm1(model_ridge.predict(X_train))\n",
    "ridge_pred = np.expm1(model_ridge.predict(X_test))\n",
    "\n",
    "model_lasso.fit(X_train, Y_train)\n",
    "lasso_train = np.expm1(model_lasso.predict(X_train))\n",
    "lasso_pred = np.expm1(model_lasso.predict(X_test))\n",
    "\n",
    "model_elastic.fit(X_train, Y_train)\n",
    "elastic_train = np.expm1(model_elastic.predict(X_train))\n",
    "elastic_pred = np.expm1(model_elastic.predict(X_test))\n",
    "\n",
    "model_krr.fit(X_train, Y_train)\n",
    "krr_train = np.expm1(model_krr.predict(X_train))\n",
    "krr_pred = np.expm1(model_krr.predict(X_test))\n",
    "\n",
    "Y_train_real = np.expm1(Y_train)"
   ]
  },
  {
   "cell_type": "code",
   "execution_count": 163,
   "metadata": {},
   "outputs": [],
   "source": [
    "cv_dtr = rmse_cv(model_dtr).mean()\n",
    "cv_rf = rmse_cv(model_rf).mean()\n",
    "cv_gbr = rmse_cv(model_gbr).mean()\n",
    "cv_ridge = rmse_cv(model_ridge).mean()\n",
    "cv_lasso = rmse_cv(model_lasso).mean()\n",
    "cv_elastic = rmse_cv(model_elastic).mean()\n",
    "cv_krr = rmse_cv(model_krr).mean()"
   ]
  },
  {
   "cell_type": "code",
   "execution_count": 164,
   "metadata": {},
   "outputs": [],
   "source": [
    "results = pd.DataFrame({\n",
    "    'Model': ['Ridge',\n",
    "              'Lasso',\n",
    "              'ElasticNet',\n",
    "              'Kernel Ridge',\n",
    "              'Random Forest',\n",
    "              'Regression Tree',\n",
    "              'Gradient Boosting Regressor',\n",
    "              ],\n",
    "    'Score': [cv_ridge,\n",
    "              cv_lasso,\n",
    "              cv_elastic,\n",
    "              cv_krr,\n",
    "              cv_rf,\n",
    "              cv_dtr,\n",
    "              cv_gbr,\n",
    "              ]})"
   ]
  },
  {
   "cell_type": "code",
   "execution_count": 165,
   "metadata": {},
   "outputs": [],
   "source": [
    "models_train = pd.DataFrame({'dtr_train': dtr_train[:],\n",
    "                             'rf_train': rf_train[:],\n",
    "                             'gbr_train': gbr_train[:],\n",
    "                             'ridge_train': ridge_train[:],\n",
    "                             'lasso_train': lasso_train[:],\n",
    "                             'elastic_train': elastic_train[:],\n",
    "                             'krr_train': krr_train[:],\n",
    "                            })\n",
    "models_pred = pd.DataFrame({'dtr_pred': dtr_pred[:],\n",
    "                            'rf_pred': rf_pred[:],\n",
    "                            'gbr_pred': gbr_pred[:],\n",
    "                            'ridge_pred': ridge_pred[:],\n",
    "                            'lasso_pred': lasso_pred[:],\n",
    "                            'elastic_pred': elastic_pred[:],\n",
    "                            'krr_pred': krr_pred[:],\n",
    "                           })"
   ]
  },
  {
   "cell_type": "code",
   "execution_count": 166,
   "metadata": {},
   "outputs": [
    {
     "name": "stdout",
     "output_type": "stream",
     "text": [
      "   index                        Model     Score\n",
      "0      2                   ElasticNet  0.109317\n",
      "1      1                        Lasso  0.109476\n",
      "2      3                 Kernel Ridge  0.110394\n",
      "3      0                        Ridge  0.110708\n",
      "4      6  Gradient Boosting Regressor  0.113996\n",
      "5      4                Random Forest  0.135156\n",
      "6      5              Regression Tree  0.195859\n"
     ]
    },
    {
     "data": {
      "image/png": "[encoded data removed]",
      "text/plain": [
       "<Figure size 576x288 with 1 Axes>"
      ]
     },
     "metadata": {},
     "output_type": "display_data"
    }
   ],
   "source": [
    "result_df = results.sort_values(by='Score', ascending=True).reset_index()\n",
    "print(result_df)\n",
    "# Plotting model performance\n",
    "f, ax = plt.subplots(figsize=(8,4))\n",
    "plt.xticks(rotation='30')\n",
    "sns.barplot(x=result_df['Model'], y=result_df['Score'])\n",
    "plt.xlabel('Models', fontsize=20)\n",
    "plt.ylabel('Model performance', fontsize=20)\n",
    "plt.ylim(0.10, 0.205)\n",
    "plt.title('RMSE', fontsize=20)\n",
    "plt.show()"
   ]
  },
  {
   "cell_type": "markdown",
   "metadata": {},
   "source": [
    "# Ensembel Methods #"
   ]
  },
  {
   "cell_type": "code",
   "execution_count": 167,
   "metadata": {},
   "outputs": [],
   "source": [
    "Y_train_real = np.expm1(Y_train)\n",
    "Y_train_real.head()\n",
    "\n",
    "del models_train['dtr_train']\n",
    "del models_pred['dtr_pred']"
   ]
  },
  {
   "cell_type": "code",
   "execution_count": 159,
   "metadata": {},
   "outputs": [],
   "source": [
    "# def vali_rmse(Y_vali_pred):\n",
    "#     Y_vali_pred = np.log1p(Y_vali_pred)\n",
    "#     d = Y_vali_pred - Y_vali\n",
    "#     rmse = d.multiply(d)\n",
    "#     rmse = rmse.mean()\n",
    "#     rmse = np.sqrt(rmse)\n",
    "#     return rmse"
   ]
  },
  {
   "cell_type": "markdown",
   "metadata": {},
   "source": [
    "## (i) Averaging ##"
   ]
  },
  {
   "cell_type": "code",
   "execution_count": 168,
   "metadata": {},
   "outputs": [],
   "source": [
    "ensembel_avg_pred = models_pred.mean(axis=1)"
   ]
  },
  {
   "cell_type": "code",
   "execution_count": 150,
   "metadata": {},
   "outputs": [
    {
     "name": "stdout",
     "output_type": "stream",
     "text": [
      "0.10693031820565584\n"
     ]
    }
   ],
   "source": [
    "ensembel_avg_rmse = vali_rmse(ensembel_avg_pred)\n",
    "print(ensembel_avg_rmse) #0.1054"
   ]
  },
  {
   "cell_type": "code",
   "execution_count": 169,
   "metadata": {},
   "outputs": [],
   "source": [
    "sub = pd.DataFrame()\n",
    "sub['Id'] = test_ID\n",
    "sub['SalePrice'] = ensembel_avg_pred\n",
    "sub.to_csv('ensembel_avg_pred.csv',index=False)"
   ]
  },
  {
   "cell_type": "code",
   "execution_count": 33,
   "metadata": {},
   "outputs": [
    {
     "data": {
      "text/html": [
       "<div>\n",
       "<style scoped>\n",
       "    .dataframe tbody tr th:only-of-type {\n",
       "        vertical-align: middle;\n",
       "    }\n",
       "\n",
       "    .dataframe tbody tr th {\n",
       "        vertical-align: top;\n",
       "    }\n",
       "\n",
       "    .dataframe thead th {\n",
       "        text-align: right;\n",
       "    }\n",
       "</style>\n",
       "<table border=\"1\" class=\"dataframe\">\n",
       "  <thead>\n",
       "    <tr style=\"text-align: right;\">\n",
       "      <th></th>\n",
       "      <th>rf_train</th>\n",
       "      <th>gbr_train</th>\n",
       "      <th>ridge_train</th>\n",
       "      <th>lasso_train</th>\n",
       "      <th>elastic_train</th>\n",
       "      <th>krr_train</th>\n",
       "    </tr>\n",
       "  </thead>\n",
       "  <tbody>\n",
       "    <tr>\n",
       "      <th>0</th>\n",
       "      <td>11.878666</td>\n",
       "      <td>11.747652</td>\n",
       "      <td>11.803138</td>\n",
       "      <td>11.826015</td>\n",
       "      <td>11.813651</td>\n",
       "      <td>11.785688</td>\n",
       "    </tr>\n",
       "    <tr>\n",
       "      <th>1</th>\n",
       "      <td>11.549552</td>\n",
       "      <td>11.557721</td>\n",
       "      <td>11.638539</td>\n",
       "      <td>11.612528</td>\n",
       "      <td>11.623831</td>\n",
       "      <td>11.597797</td>\n",
       "    </tr>\n",
       "    <tr>\n",
       "      <th>2</th>\n",
       "      <td>12.306293</td>\n",
       "      <td>12.313851</td>\n",
       "      <td>12.270218</td>\n",
       "      <td>12.280685</td>\n",
       "      <td>12.280445</td>\n",
       "      <td>12.279055</td>\n",
       "    </tr>\n",
       "    <tr>\n",
       "      <th>3</th>\n",
       "      <td>11.933487</td>\n",
       "      <td>11.856053</td>\n",
       "      <td>11.906585</td>\n",
       "      <td>11.903861</td>\n",
       "      <td>11.904315</td>\n",
       "      <td>11.863957</td>\n",
       "    </tr>\n",
       "    <tr>\n",
       "      <th>4</th>\n",
       "      <td>11.632542</td>\n",
       "      <td>11.626539</td>\n",
       "      <td>11.677371</td>\n",
       "      <td>11.647599</td>\n",
       "      <td>11.661208</td>\n",
       "      <td>11.636220</td>\n",
       "    </tr>\n",
       "  </tbody>\n",
       "</table>\n",
       "</div>"
      ],
      "text/plain": [
       "    rf_train  gbr_train  ridge_train  lasso_train  elastic_train  krr_train\n",
       "0  11.878666  11.747652    11.803138    11.826015      11.813651  11.785688\n",
       "1  11.549552  11.557721    11.638539    11.612528      11.623831  11.597797\n",
       "2  12.306293  12.313851    12.270218    12.280685      12.280445  12.279055\n",
       "3  11.933487  11.856053    11.906585    11.903861      11.904315  11.863957\n",
       "4  11.632542  11.626539    11.677371    11.647599      11.661208  11.636220"
      ]
     },
     "execution_count": 33,
     "metadata": {},
     "output_type": "execute_result"
    }
   ],
   "source": [
    "np.log1p(models_train).head()"
   ]
  },
  {
   "cell_type": "markdown",
   "metadata": {},
   "source": [
    "## (ii) Linear Regression ##"
   ]
  },
  {
   "cell_type": "code",
   "execution_count": 170,
   "metadata": {},
   "outputs": [
    {
     "name": "stdout",
     "output_type": "stream",
     "text": [
      "The coefficent of Linear ensembel is: \n",
      " [0.35549246 0.46146991 0.05017025 0.         0.02244067 0.1000589 ]\n"
     ]
    },
    {
     "data": {
      "text/plain": [
       "0.9896321829009634"
      ]
     },
     "execution_count": 170,
     "metadata": {},
     "output_type": "execute_result"
    }
   ],
   "source": [
    "ensembel_lin = ElasticNet(alpha = 0.01)\n",
    "ensembel_lin.fit(np.log1p(models_train), np.log1p(Y_train_real))\n",
    "ensembel_lin_pred = ensembel_lin.predict(models_pred)\n",
    "print('The coefficent of Linear ensembel is: \\n', ensembel_lin.coef_)\n",
    "ensembel_lin.coef_.sum()"
   ]
  },
  {
   "cell_type": "code",
   "execution_count": 149,
   "metadata": {},
   "outputs": [
    {
     "data": {
      "text/plain": [
       "0.11749832296351842"
      ]
     },
     "execution_count": 149,
     "metadata": {},
     "output_type": "execute_result"
    }
   ],
   "source": [
    "vali_rmse(ensembel_lin_pred) #0.1165"
   ]
  },
  {
   "cell_type": "code",
   "execution_count": 36,
   "metadata": {},
   "outputs": [
    {
     "data": {
      "text/html": [
       "<div>\n",
       "<style scoped>\n",
       "    .dataframe tbody tr th:only-of-type {\n",
       "        vertical-align: middle;\n",
       "    }\n",
       "\n",
       "    .dataframe tbody tr th {\n",
       "        vertical-align: top;\n",
       "    }\n",
       "\n",
       "    .dataframe thead th {\n",
       "        text-align: right;\n",
       "    }\n",
       "</style>\n",
       "<table border=\"1\" class=\"dataframe\">\n",
       "  <thead>\n",
       "    <tr style=\"text-align: right;\">\n",
       "      <th></th>\n",
       "      <th>rf_pred</th>\n",
       "      <th>gbr_pred</th>\n",
       "      <th>ridge_pred</th>\n",
       "      <th>lasso_pred</th>\n",
       "      <th>elastic_pred</th>\n",
       "      <th>krr_pred</th>\n",
       "    </tr>\n",
       "  </thead>\n",
       "  <tbody>\n",
       "    <tr>\n",
       "      <th>0</th>\n",
       "      <td>205571.570341</td>\n",
       "      <td>212239.651923</td>\n",
       "      <td>207635.486341</td>\n",
       "      <td>208293.824406</td>\n",
       "      <td>208395.428060</td>\n",
       "      <td>207166.036818</td>\n",
       "    </tr>\n",
       "    <tr>\n",
       "      <th>1</th>\n",
       "      <td>169787.801135</td>\n",
       "      <td>172694.737917</td>\n",
       "      <td>190839.995379</td>\n",
       "      <td>188345.936649</td>\n",
       "      <td>188226.556273</td>\n",
       "      <td>188933.627240</td>\n",
       "    </tr>\n",
       "    <tr>\n",
       "      <th>2</th>\n",
       "      <td>212432.634841</td>\n",
       "      <td>211259.974354</td>\n",
       "      <td>217719.164548</td>\n",
       "      <td>218498.282324</td>\n",
       "      <td>217241.222886</td>\n",
       "      <td>216968.712885</td>\n",
       "    </tr>\n",
       "    <tr>\n",
       "      <th>3</th>\n",
       "      <td>185885.772926</td>\n",
       "      <td>182551.736192</td>\n",
       "      <td>164957.839568</td>\n",
       "      <td>171848.382104</td>\n",
       "      <td>170827.913002</td>\n",
       "      <td>171161.809409</td>\n",
       "    </tr>\n",
       "    <tr>\n",
       "      <th>4</th>\n",
       "      <td>297341.248277</td>\n",
       "      <td>321292.397334</td>\n",
       "      <td>298907.764133</td>\n",
       "      <td>302297.683442</td>\n",
       "      <td>300834.200394</td>\n",
       "      <td>293535.370961</td>\n",
       "    </tr>\n",
       "  </tbody>\n",
       "</table>\n",
       "</div>"
      ],
      "text/plain": [
       "         rf_pred       gbr_pred     ridge_pred     lasso_pred   elastic_pred  \\\n",
       "0  205571.570341  212239.651923  207635.486341  208293.824406  208395.428060   \n",
       "1  169787.801135  172694.737917  190839.995379  188345.936649  188226.556273   \n",
       "2  212432.634841  211259.974354  217719.164548  218498.282324  217241.222886   \n",
       "3  185885.772926  182551.736192  164957.839568  171848.382104  170827.913002   \n",
       "4  297341.248277  321292.397334  298907.764133  302297.683442  300834.200394   \n",
       "\n",
       "        krr_pred  \n",
       "0  207166.036818  \n",
       "1  188933.627240  \n",
       "2  216968.712885  \n",
       "3  171161.809409  \n",
       "4  293535.370961  "
      ]
     },
     "execution_count": 36,
     "metadata": {},
     "output_type": "execute_result"
    }
   ],
   "source": [
    "models_pred.head()"
   ]
  },
  {
   "cell_type": "code",
   "execution_count": 171,
   "metadata": {},
   "outputs": [],
   "source": [
    "sub = pd.DataFrame()\n",
    "sub['Id'] = test_ID\n",
    "sub['SalePrice'] = ensembel_lin_pred\n",
    "sub.to_csv('ensembel_lin_pred.csv',index=False)"
   ]
  },
  {
   "cell_type": "markdown",
   "metadata": {},
   "source": [
    "## (iii) Minimum Variance ##"
   ]
  },
  {
   "cell_type": "markdown",
   "metadata": {},
   "source": [
    "（∑ai2） * （∑bi2） ≥ （∑ai * bi)2"
   ]
  },
  {
   "cell_type": "markdown",
   "metadata": {},
   "source": [
    "Largrange"
   ]
  },
  {
   "cell_type": "markdown",
   "metadata": {},
   "source": [
    "# $ a = \\frac{1}{\\alpha (\\frac{1}{\\alpha} + \\frac{1}{\\beta} + \\frac{1}{\\gamma})} $\n",
    "\n",
    "# $ Var_{min} = \\frac{1}{\\frac{1}{\\alpha} + \\frac{1}{\\beta} + \\frac{1}{\\gamma}} $"
   ]
  },
  {
   "cell_type": "code",
   "execution_count": 172,
   "metadata": {},
   "outputs": [],
   "source": [
    "def MV_coeff(rmse):\n",
    "    min_var_coeff = np.zeros([rmse.shape[0]])\n",
    "    for i in range(rmse.shape[0]):\n",
    "        min_var_coeff[i] = 1/rmse[i]\n",
    "    min_var_coeff /= min_var_coeff.sum()\n",
    "    return min_var_coeff"
   ]
  },
  {
   "cell_type": "code",
   "execution_count": 173,
   "metadata": {},
   "outputs": [],
   "source": [
    "# RMSEs for dtr, rf, gbr\n",
    "rmses = np.array([cv_rf, cv_gbr, cv_ridge, cv_lasso, cv_elastic, cv_krr])"
   ]
  },
  {
   "cell_type": "code",
   "execution_count": 174,
   "metadata": {},
   "outputs": [
    {
     "name": "stdout",
     "output_type": "stream",
     "text": [
      "The minimun variance coefficent is: \n",
      " [0.14081175 0.1669496  0.17190697 0.17384131 0.17409476 0.17239562]\n"
     ]
    }
   ],
   "source": [
    "ensembel_MV_coeff = MV_coeff(rmses)\n",
    "ensembel_MV_pred = models_pred.multiply(ensembel_MV_coeff).sum(axis=1)\n",
    "print('The minimun variance coefficent is: \\n', ensembel_MV_coeff)"
   ]
  },
  {
   "cell_type": "code",
   "execution_count": 175,
   "metadata": {},
   "outputs": [
    {
     "data": {
      "text/plain": [
       "1.0"
      ]
     },
     "execution_count": 175,
     "metadata": {},
     "output_type": "execute_result"
    }
   ],
   "source": [
    "ensembel_MV_coeff.sum()"
   ]
  },
  {
   "cell_type": "code",
   "execution_count": 176,
   "metadata": {},
   "outputs": [
    {
     "data": {
      "text/plain": [
       "0.32807745387657383"
      ]
     },
     "execution_count": 176,
     "metadata": {},
     "output_type": "execute_result"
    }
   ],
   "source": [
    "vali_rmse(ensembel_MV_pred.head()) #0.1249"
   ]
  },
  {
   "cell_type": "code",
   "execution_count": 177,
   "metadata": {},
   "outputs": [],
   "source": [
    "sub = pd.DataFrame()\n",
    "sub['Id'] = test_ID\n",
    "sub['SalePrice'] = ensembel_MV_pred\n",
    "sub.to_csv('ensembel_MV_pred.csv',index=False)"
   ]
  },
  {
   "cell_type": "markdown",
   "metadata": {},
   "source": [
    "## (iv) Meta Model ##"
   ]
  },
  {
   "cell_type": "code",
   "execution_count": null,
   "metadata": {},
   "outputs": [],
   "source": []
  }
 ],
 "metadata": {
  "kernelspec": {
   "display_name": "Python 2",
   "language": "python",
   "name": "python2"
  },
  "language_info": {
   "codemirror_mode": {
    "name": "ipython",
    "version": 2
   },
   "file_extension": ".py",
   "mimetype": "text/x-python",
   "name": "python",
   "nbconvert_exporter": "python",
   "pygments_lexer": "ipython2",
   "version": "2.7.15"
  }
 },
 "nbformat": 4,
 "nbformat_minor": 2
}
